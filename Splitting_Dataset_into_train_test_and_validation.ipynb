{
 "cells": [
  {
   "cell_type": "markdown",
   "id": "76576788",
   "metadata": {},
   "source": [
    "okay so what we are doing :\n",
    "    Problem statement : classify formal and informal dress code images.\n",
    "what we are using here is pretrained model :\n",
    "feature extraction but technique using here will be convolution based based extracting its feature and then feed our data on this features in densely connected network it will not use data augmenetation. it is fast and cheep. but will lead to overfitting .since we dont have gpu we are using this technique.\n",
    "    \n",
    "# step 1: categories your data into 3 parts :\n",
    "training validation and testing we have very limited data around 1400 images.\n",
    "\n"
   ]
  },
  {
   "cell_type": "code",
   "execution_count": 73,
   "id": "21eab76b",
   "metadata": {},
   "outputs": [],
   "source": [
    "import os, shutil\n",
    "\n",
    "original_dataset_dir = \"Dataset/\"\n",
    "\n",
    "# creating one directory known\n",
    "base_dir = \"formal_and_informal_img\"\n",
    "os.mkdir(base_dir)\n",
    "\n",
    "def make_diff_directory(base_dir, dir_name):\n",
    "    \n",
    "    x_dir = os.path.join(base_dir,dir_name)\n",
    "    os.mkdir(x_dir)\n",
    "    \n",
    "    x_file_type_dir = os.path.join(x_dir,'formal')\n",
    "    os.mkdir(x_file_type_dir)\n",
    "    \n",
    "    x_file_type_dir = os.path.join(x_dir,'informal')\n",
    "    os.mkdir(x_file_type_dir)\n",
    "\n",
    "make_diff_directory(base_dir,'train')\n",
    "make_diff_directory(base_dir,'test')\n",
    "make_diff_directory(base_dir,'validation')\n"
   ]
  },
  {
   "cell_type": "code",
   "execution_count": 74,
   "id": "69e28b62",
   "metadata": {},
   "outputs": [
    {
     "data": {
      "text/plain": [
       "'formal_0.jpg'"
      ]
     },
     "execution_count": 74,
     "metadata": {},
     "output_type": "execute_result"
    }
   ],
   "source": [
    "'{}_{}.jpg'.format('formal',0)"
   ]
  },
  {
   "cell_type": "code",
   "execution_count": 75,
   "id": "895ba5b6",
   "metadata": {},
   "outputs": [],
   "source": [
    "def copying_files(f):\n",
    "    \n",
    "    original_dataset_dir = \"Dataset/\"\n",
    "    train_dir = 'formal_and_informal_img/train/{}/'.format(f)\n",
    "    validation_dir = 'formal_and_informal_img/validation/{}/'.format(f)\n",
    "    test_dir = 'formal_and_informal_img/test/{}/'.format(f)\n",
    "    \n",
    "    fnames = ['{}_{}.jpg'.format(f,i) for i in range(1,501)]\n",
    "    for fname in fnames:\n",
    "        src = os.path.join(original_dataset_dir, fname)\n",
    "        dst = os.path.join(train_dir, fname)\n",
    "        shutil.copyfile(src, dst)\n",
    "\n",
    "    fnames = ['{}_{}.jpg'.format(f,i) for i in range(501,601)]\n",
    "    for fname in fnames:\n",
    "        src = os.path.join(original_dataset_dir, fname)\n",
    "        dst = os.path.join(validation_dir, fname)\n",
    "        shutil.copyfile(src, dst)\n",
    "\n",
    "\n",
    "\n",
    "    fnames = ['{}_{}.jpg'.format(f,i) for i in range(601,701)]\n",
    "    for fname in fnames:\n",
    "        src = os.path.join(original_dataset_dir, fname)\n",
    "        dst = os.path.join(test_dir, fname)\n",
    "        shutil.copyfile(src, dst)\n",
    "\n",
    "\n",
    "\n",
    "copying_files('formal')\n",
    "copying_files('informal')\n",
    "\n",
    "\n"
   ]
  },
  {
   "cell_type": "code",
   "execution_count": 58,
   "id": "d2839aae",
   "metadata": {},
   "outputs": [
    {
     "name": "stdout",
     "output_type": "stream",
     "text": [
      "total training formal images: 500\n"
     ]
    }
   ],
   "source": [
    "print('total training formal images:', len(os.listdir(train_formal_dir)))"
   ]
  },
  {
   "cell_type": "code",
   "execution_count": 53,
   "id": "6648941f",
   "metadata": {},
   "outputs": [
    {
     "name": "stdout",
     "output_type": "stream",
     "text": [
      "total training informal images: 500\n"
     ]
    }
   ],
   "source": [
    " print('total training informal images:', len(os.listdir(train_informal_dir)))"
   ]
  },
  {
   "cell_type": "code",
   "execution_count": 54,
   "id": "bc8e8ed6",
   "metadata": {},
   "outputs": [
    {
     "name": "stdout",
     "output_type": "stream",
     "text": [
      "total validation formal images: 99\n"
     ]
    }
   ],
   "source": [
    " print('total validation formal images:', len(os.listdir(validation_formal_dir)))"
   ]
  },
  {
   "cell_type": "code",
   "execution_count": 55,
   "id": "354ee0a5",
   "metadata": {},
   "outputs": [
    {
     "name": "stdout",
     "output_type": "stream",
     "text": [
      "total validation infromal images: 99\n"
     ]
    }
   ],
   "source": [
    " print('total validation infromal images:', len(os.listdir(validation_informal_dir)))"
   ]
  },
  {
   "cell_type": "code",
   "execution_count": 56,
   "id": "be86332c",
   "metadata": {},
   "outputs": [
    {
     "name": "stdout",
     "output_type": "stream",
     "text": [
      "total test formal images: 99\n"
     ]
    }
   ],
   "source": [
    "print('total test formal images:', len(os.listdir(test_formal_dir)))"
   ]
  },
  {
   "cell_type": "code",
   "execution_count": 57,
   "id": "5a0a54bd",
   "metadata": {},
   "outputs": [
    {
     "name": "stdout",
     "output_type": "stream",
     "text": [
      "total test informal images: 99\n"
     ]
    }
   ],
   "source": [
    "print('total test informal images:', len(os.listdir(test_informal_dir)))"
   ]
  },
  {
   "cell_type": "code",
   "execution_count": null,
   "id": "f67db2b5",
   "metadata": {},
   "outputs": [],
   "source": []
  },
  {
   "cell_type": "code",
   "execution_count": null,
   "id": "718507b4",
   "metadata": {},
   "outputs": [],
   "source": []
  }
 ],
 "metadata": {
  "kernelspec": {
   "display_name": "Python 3 (ipykernel)",
   "language": "python",
   "name": "python3"
  },
  "language_info": {
   "codemirror_mode": {
    "name": "ipython",
    "version": 3
   },
   "file_extension": ".py",
   "mimetype": "text/x-python",
   "name": "python",
   "nbconvert_exporter": "python",
   "pygments_lexer": "ipython3",
   "version": "3.9.7"
  }
 },
 "nbformat": 4,
 "nbformat_minor": 5
}
